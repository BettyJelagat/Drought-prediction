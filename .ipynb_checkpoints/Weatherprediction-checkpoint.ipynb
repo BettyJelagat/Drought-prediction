{
 "cells": [
  {
   "cell_type": "markdown",
   "id": "8514525b-8897-4e47-8c86-18f9fa529f23",
   "metadata": {},
   "source": [
    "##Reading and visualizing the data"
   ]
  },
  {
   "cell_type": "code",
   "execution_count": 2,
   "id": "b3bdd7ce-5f84-470f-98bb-d280613553a7",
   "metadata": {},
   "outputs": [
    {
     "data": {
      "text/html": [
       "<div>\n",
       "<style scoped>\n",
       "    .dataframe tbody tr th:only-of-type {\n",
       "        vertical-align: middle;\n",
       "    }\n",
       "\n",
       "    .dataframe tbody tr th {\n",
       "        vertical-align: top;\n",
       "    }\n",
       "\n",
       "    .dataframe thead th {\n",
       "        text-align: right;\n",
       "    }\n",
       "</style>\n",
       "<table border=\"1\" class=\"dataframe\">\n",
       "  <thead>\n",
       "    <tr style=\"text-align: right;\">\n",
       "      <th></th>\n",
       "      <th>T2M_MAX</th>\n",
       "      <th>T2M_MIN</th>\n",
       "      <th>PRECTOTCORR</th>\n",
       "      <th>QV2M</th>\n",
       "      <th>WS2M</th>\n",
       "      <th>GWETTOP</th>\n",
       "    </tr>\n",
       "    <tr>\n",
       "      <th>DATE</th>\n",
       "      <th></th>\n",
       "      <th></th>\n",
       "      <th></th>\n",
       "      <th></th>\n",
       "      <th></th>\n",
       "      <th></th>\n",
       "    </tr>\n",
       "  </thead>\n",
       "  <tbody>\n",
       "    <tr>\n",
       "      <th>1981-01-01</th>\n",
       "      <td>23.28</td>\n",
       "      <td>6.56</td>\n",
       "      <td>3.18</td>\n",
       "      <td>8.24</td>\n",
       "      <td>1.76</td>\n",
       "      <td>0.50</td>\n",
       "    </tr>\n",
       "    <tr>\n",
       "      <th>1981-01-02</th>\n",
       "      <td>22.72</td>\n",
       "      <td>9.72</td>\n",
       "      <td>3.14</td>\n",
       "      <td>8.73</td>\n",
       "      <td>1.88</td>\n",
       "      <td>0.51</td>\n",
       "    </tr>\n",
       "    <tr>\n",
       "      <th>1981-01-03</th>\n",
       "      <td>23.03</td>\n",
       "      <td>8.87</td>\n",
       "      <td>1.76</td>\n",
       "      <td>8.54</td>\n",
       "      <td>1.73</td>\n",
       "      <td>0.52</td>\n",
       "    </tr>\n",
       "    <tr>\n",
       "      <th>1981-01-04</th>\n",
       "      <td>23.34</td>\n",
       "      <td>8.09</td>\n",
       "      <td>0.12</td>\n",
       "      <td>8.91</td>\n",
       "      <td>1.95</td>\n",
       "      <td>0.49</td>\n",
       "    </tr>\n",
       "    <tr>\n",
       "      <th>1981-01-05</th>\n",
       "      <td>23.78</td>\n",
       "      <td>8.94</td>\n",
       "      <td>0.02</td>\n",
       "      <td>9.40</td>\n",
       "      <td>2.03</td>\n",
       "      <td>0.48</td>\n",
       "    </tr>\n",
       "    <tr>\n",
       "      <th>...</th>\n",
       "      <td>...</td>\n",
       "      <td>...</td>\n",
       "      <td>...</td>\n",
       "      <td>...</td>\n",
       "      <td>...</td>\n",
       "      <td>...</td>\n",
       "    </tr>\n",
       "    <tr>\n",
       "      <th>2024-11-26</th>\n",
       "      <td>19.38</td>\n",
       "      <td>12.08</td>\n",
       "      <td>51.01</td>\n",
       "      <td>12.57</td>\n",
       "      <td>0.81</td>\n",
       "      <td>-999.00</td>\n",
       "    </tr>\n",
       "    <tr>\n",
       "      <th>2024-11-27</th>\n",
       "      <td>18.81</td>\n",
       "      <td>13.21</td>\n",
       "      <td>150.75</td>\n",
       "      <td>12.94</td>\n",
       "      <td>0.55</td>\n",
       "      <td>-999.00</td>\n",
       "    </tr>\n",
       "    <tr>\n",
       "      <th>2024-11-28</th>\n",
       "      <td>18.76</td>\n",
       "      <td>13.04</td>\n",
       "      <td>26.19</td>\n",
       "      <td>13.24</td>\n",
       "      <td>1.30</td>\n",
       "      <td>-999.00</td>\n",
       "    </tr>\n",
       "    <tr>\n",
       "      <th>2024-11-29</th>\n",
       "      <td>18.09</td>\n",
       "      <td>12.69</td>\n",
       "      <td>111.23</td>\n",
       "      <td>13.00</td>\n",
       "      <td>1.52</td>\n",
       "      <td>-999.00</td>\n",
       "    </tr>\n",
       "    <tr>\n",
       "      <th>2024-11-30</th>\n",
       "      <td>18.69</td>\n",
       "      <td>11.67</td>\n",
       "      <td>17.26</td>\n",
       "      <td>12.21</td>\n",
       "      <td>1.30</td>\n",
       "      <td>-999.00</td>\n",
       "    </tr>\n",
       "  </tbody>\n",
       "</table>\n",
       "<p>16040 rows × 6 columns</p>\n",
       "</div>"
      ],
      "text/plain": [
       "            T2M_MAX  T2M_MIN  PRECTOTCORR   QV2M  WS2M  GWETTOP\n",
       "DATE                                                           \n",
       "1981-01-01    23.28     6.56         3.18   8.24  1.76     0.50\n",
       "1981-01-02    22.72     9.72         3.14   8.73  1.88     0.51\n",
       "1981-01-03    23.03     8.87         1.76   8.54  1.73     0.52\n",
       "1981-01-04    23.34     8.09         0.12   8.91  1.95     0.49\n",
       "1981-01-05    23.78     8.94         0.02   9.40  2.03     0.48\n",
       "...             ...      ...          ...    ...   ...      ...\n",
       "2024-11-26    19.38    12.08        51.01  12.57  0.81  -999.00\n",
       "2024-11-27    18.81    13.21       150.75  12.94  0.55  -999.00\n",
       "2024-11-28    18.76    13.04        26.19  13.24  1.30  -999.00\n",
       "2024-11-29    18.09    12.69       111.23  13.00  1.52  -999.00\n",
       "2024-11-30    18.69    11.67        17.26  12.21  1.30  -999.00\n",
       "\n",
       "[16040 rows x 6 columns]"
      ]
     },
     "execution_count": 2,
     "metadata": {},
     "output_type": "execute_result"
    }
   ],
   "source": [
    "import pandas as pd\n",
    "climatedata = pd.read_csv(\"1981-2024Daily summaries.csv\", parse_dates=[\"DATE\"],index_col=\"DATE\") #Make the year an index column\n",
    "climatedata"
   ]
  },
  {
   "cell_type": "code",
   "execution_count": 3,
   "id": "f228fcda-7bf4-4892-8057-d42cd6e7fbd9",
   "metadata": {},
   "outputs": [
    {
     "name": "stdout",
     "output_type": "stream",
     "text": [
      "<class 'pandas.core.frame.DataFrame'>\n",
      "DatetimeIndex: 16040 entries, 1981-01-01 to 2024-11-30\n",
      "Data columns (total 6 columns):\n",
      " #   Column       Non-Null Count  Dtype  \n",
      "---  ------       --------------  -----  \n",
      " 0   T2M_MAX      16040 non-null  float64\n",
      " 1   T2M_MIN      16040 non-null  float64\n",
      " 2   PRECTOTCORR  16040 non-null  float64\n",
      " 3   QV2M         16040 non-null  float64\n",
      " 4   WS2M         16040 non-null  float64\n",
      " 5   GWETTOP      16040 non-null  float64\n",
      "dtypes: float64(6)\n",
      "memory usage: 877.2 KB\n",
      "None\n"
     ]
    }
   ],
   "source": [
    "#checking information on the data\n",
    "print(climatedata.info())"
   ]
  },
  {
   "cell_type": "code",
   "execution_count": 4,
   "id": "4a199486-5f7d-4a01-affe-c64db54d4ba8",
   "metadata": {},
   "outputs": [],
   "source": [
    "## Creating a copy of the dataset to work with\n",
    "Core_weather = climatedata[[\"T2M_MAX\",\"T2M_MIN\",\"PRECTOTCORR\",\"QV2M\",\"WS2M\",\"GWETTOP\"]].copy()"
   ]
  },
  {
   "cell_type": "code",
   "execution_count": 5,
   "id": "13729317-53d3-4474-990f-53b19909154e",
   "metadata": {},
   "outputs": [],
   "source": [
    "#Renaming the columns appropriately\n",
    "Core_weather.columns = [\"temp_max\",\"temp_min\",\"precip\",\"Humidity\",\"w_speed\",\"s_wetness\"]"
   ]
  },
  {
   "cell_type": "code",
   "execution_count": 6,
   "id": "dbc9553e-afd0-4510-a560-228fb82c2549",
   "metadata": {},
   "outputs": [
    {
     "data": {
      "text/html": [
       "<div>\n",
       "<style scoped>\n",
       "    .dataframe tbody tr th:only-of-type {\n",
       "        vertical-align: middle;\n",
       "    }\n",
       "\n",
       "    .dataframe tbody tr th {\n",
       "        vertical-align: top;\n",
       "    }\n",
       "\n",
       "    .dataframe thead th {\n",
       "        text-align: right;\n",
       "    }\n",
       "</style>\n",
       "<table border=\"1\" class=\"dataframe\">\n",
       "  <thead>\n",
       "    <tr style=\"text-align: right;\">\n",
       "      <th></th>\n",
       "      <th>temp_max</th>\n",
       "      <th>temp_min</th>\n",
       "      <th>precip</th>\n",
       "      <th>Humidity</th>\n",
       "      <th>w_speed</th>\n",
       "      <th>s_wetness</th>\n",
       "    </tr>\n",
       "    <tr>\n",
       "      <th>DATE</th>\n",
       "      <th></th>\n",
       "      <th></th>\n",
       "      <th></th>\n",
       "      <th></th>\n",
       "      <th></th>\n",
       "      <th></th>\n",
       "    </tr>\n",
       "  </thead>\n",
       "  <tbody>\n",
       "    <tr>\n",
       "      <th>1981-01-01</th>\n",
       "      <td>23.28</td>\n",
       "      <td>6.56</td>\n",
       "      <td>3.18</td>\n",
       "      <td>8.24</td>\n",
       "      <td>1.76</td>\n",
       "      <td>0.50</td>\n",
       "    </tr>\n",
       "    <tr>\n",
       "      <th>1981-01-02</th>\n",
       "      <td>22.72</td>\n",
       "      <td>9.72</td>\n",
       "      <td>3.14</td>\n",
       "      <td>8.73</td>\n",
       "      <td>1.88</td>\n",
       "      <td>0.51</td>\n",
       "    </tr>\n",
       "    <tr>\n",
       "      <th>1981-01-03</th>\n",
       "      <td>23.03</td>\n",
       "      <td>8.87</td>\n",
       "      <td>1.76</td>\n",
       "      <td>8.54</td>\n",
       "      <td>1.73</td>\n",
       "      <td>0.52</td>\n",
       "    </tr>\n",
       "    <tr>\n",
       "      <th>1981-01-04</th>\n",
       "      <td>23.34</td>\n",
       "      <td>8.09</td>\n",
       "      <td>0.12</td>\n",
       "      <td>8.91</td>\n",
       "      <td>1.95</td>\n",
       "      <td>0.49</td>\n",
       "    </tr>\n",
       "    <tr>\n",
       "      <th>1981-01-05</th>\n",
       "      <td>23.78</td>\n",
       "      <td>8.94</td>\n",
       "      <td>0.02</td>\n",
       "      <td>9.40</td>\n",
       "      <td>2.03</td>\n",
       "      <td>0.48</td>\n",
       "    </tr>\n",
       "    <tr>\n",
       "      <th>...</th>\n",
       "      <td>...</td>\n",
       "      <td>...</td>\n",
       "      <td>...</td>\n",
       "      <td>...</td>\n",
       "      <td>...</td>\n",
       "      <td>...</td>\n",
       "    </tr>\n",
       "    <tr>\n",
       "      <th>2024-11-26</th>\n",
       "      <td>19.38</td>\n",
       "      <td>12.08</td>\n",
       "      <td>51.01</td>\n",
       "      <td>12.57</td>\n",
       "      <td>0.81</td>\n",
       "      <td>-999.00</td>\n",
       "    </tr>\n",
       "    <tr>\n",
       "      <th>2024-11-27</th>\n",
       "      <td>18.81</td>\n",
       "      <td>13.21</td>\n",
       "      <td>150.75</td>\n",
       "      <td>12.94</td>\n",
       "      <td>0.55</td>\n",
       "      <td>-999.00</td>\n",
       "    </tr>\n",
       "    <tr>\n",
       "      <th>2024-11-28</th>\n",
       "      <td>18.76</td>\n",
       "      <td>13.04</td>\n",
       "      <td>26.19</td>\n",
       "      <td>13.24</td>\n",
       "      <td>1.30</td>\n",
       "      <td>-999.00</td>\n",
       "    </tr>\n",
       "    <tr>\n",
       "      <th>2024-11-29</th>\n",
       "      <td>18.09</td>\n",
       "      <td>12.69</td>\n",
       "      <td>111.23</td>\n",
       "      <td>13.00</td>\n",
       "      <td>1.52</td>\n",
       "      <td>-999.00</td>\n",
       "    </tr>\n",
       "    <tr>\n",
       "      <th>2024-11-30</th>\n",
       "      <td>18.69</td>\n",
       "      <td>11.67</td>\n",
       "      <td>17.26</td>\n",
       "      <td>12.21</td>\n",
       "      <td>1.30</td>\n",
       "      <td>-999.00</td>\n",
       "    </tr>\n",
       "  </tbody>\n",
       "</table>\n",
       "<p>16040 rows × 6 columns</p>\n",
       "</div>"
      ],
      "text/plain": [
       "            temp_max  temp_min  precip  Humidity  w_speed  s_wetness\n",
       "DATE                                                                \n",
       "1981-01-01     23.28      6.56    3.18      8.24     1.76       0.50\n",
       "1981-01-02     22.72      9.72    3.14      8.73     1.88       0.51\n",
       "1981-01-03     23.03      8.87    1.76      8.54     1.73       0.52\n",
       "1981-01-04     23.34      8.09    0.12      8.91     1.95       0.49\n",
       "1981-01-05     23.78      8.94    0.02      9.40     2.03       0.48\n",
       "...              ...       ...     ...       ...      ...        ...\n",
       "2024-11-26     19.38     12.08   51.01     12.57     0.81    -999.00\n",
       "2024-11-27     18.81     13.21  150.75     12.94     0.55    -999.00\n",
       "2024-11-28     18.76     13.04   26.19     13.24     1.30    -999.00\n",
       "2024-11-29     18.09     12.69  111.23     13.00     1.52    -999.00\n",
       "2024-11-30     18.69     11.67   17.26     12.21     1.30    -999.00\n",
       "\n",
       "[16040 rows x 6 columns]"
      ]
     },
     "execution_count": 6,
     "metadata": {},
     "output_type": "execute_result"
    }
   ],
   "source": [
    "Core_weather"
   ]
  },
  {
   "cell_type": "raw",
   "id": "db85d2d6-b02b-457f-b2e3-d8f33816e3f2",
   "metadata": {},
   "source": [
    "## check for null values\n"
   ]
  },
  {
   "cell_type": "code",
   "execution_count": 7,
   "id": "840bb0fa-66db-4289-b568-fa0834c0afb8",
   "metadata": {},
   "outputs": [
    {
     "data": {
      "text/plain": [
       "temp_max     0.0\n",
       "temp_min     0.0\n",
       "precip       0.0\n",
       "Humidity     0.0\n",
       "w_speed      0.0\n",
       "s_wetness    0.0\n",
       "dtype: float64"
      ]
     },
     "execution_count": 7,
     "metadata": {},
     "output_type": "execute_result"
    }
   ],
   "source": [
    "##According to the documentation, values with -999 are missing or were not recorded\n",
    "# to check percentage of null values per column\n",
    "Core_weather.apply(pd.isnull).sum()/Core_weather.shape[0]\n",
    "# As we can see below there are no null values"
   ]
  },
  {
   "cell_type": "raw",
   "id": "25cde27b-099e-4c02-9e96-07c7b661f932",
   "metadata": {},
   "source": [
    "#Veryfying that we have the correct data types"
   ]
  },
  {
   "cell_type": "code",
   "execution_count": 8,
   "id": "5ea8d409-5271-49f2-8690-3713da02077e",
   "metadata": {},
   "outputs": [
    {
     "data": {
      "text/plain": [
       "temp_max     float64\n",
       "temp_min     float64\n",
       "precip       float64\n",
       "Humidity     float64\n",
       "w_speed      float64\n",
       "s_wetness    float64\n",
       "dtype: object"
      ]
     },
     "execution_count": 8,
     "metadata": {},
     "output_type": "execute_result"
    }
   ],
   "source": [
    "#datatypes\n",
    "Core_weather.dtypes\n",
    "\n",
    "#We find that all the data types are numerical"
   ]
  },
  {
   "cell_type": "code",
   "execution_count": 9,
   "id": "cbb00018-8d80-40aa-a1df-e787b70dfccc",
   "metadata": {},
   "outputs": [
    {
     "data": {
      "text/plain": [
       "DatetimeIndex(['1981-01-01', '1981-01-02', '1981-01-03', '1981-01-04',\n",
       "               '1981-01-05', '1981-01-06', '1981-01-07', '1981-01-08',\n",
       "               '1981-01-09', '1981-01-10',\n",
       "               ...\n",
       "               '2024-11-21', '2024-11-22', '2024-11-23', '2024-11-24',\n",
       "               '2024-11-25', '2024-11-26', '2024-11-27', '2024-11-28',\n",
       "               '2024-11-29', '2024-11-30'],\n",
       "              dtype='datetime64[ns]', name='DATE', length=16040, freq=None)"
      ]
     },
     "execution_count": 9,
     "metadata": {},
     "output_type": "execute_result"
    }
   ],
   "source": [
    "#Check the index to make sure its the right type\n",
    "Core_weather.index"
   ]
  },
  {
   "cell_type": "code",
   "execution_count": 10,
   "id": "e96e5aa7-240b-402d-a1bd-5b0fd9499388",
   "metadata": {},
   "outputs": [],
   "source": [
    "#Since the index data -type is an object, it is treated as a string whereas it is a numerical data \n",
    "# Let's convert it to a pandas date time that makes manipulation of values and subsetting of values easier\n",
    "Core_weather.index = pd.to_datetime(Core_weather.index)\n"
   ]
  },
  {
   "cell_type": "code",
   "execution_count": 11,
   "id": "b5dedad9-3912-4e51-bd52-3dfed8df625b",
   "metadata": {},
   "outputs": [
    {
     "data": {
      "text/plain": [
       "DatetimeIndex(['1981-01-01', '1981-01-02', '1981-01-03', '1981-01-04',\n",
       "               '1981-01-05', '1981-01-06', '1981-01-07', '1981-01-08',\n",
       "               '1981-01-09', '1981-01-10',\n",
       "               ...\n",
       "               '2024-11-21', '2024-11-22', '2024-11-23', '2024-11-24',\n",
       "               '2024-11-25', '2024-11-26', '2024-11-27', '2024-11-28',\n",
       "               '2024-11-29', '2024-11-30'],\n",
       "              dtype='datetime64[ns]', name='DATE', length=16040, freq=None)"
      ]
     },
     "execution_count": 11,
     "metadata": {},
     "output_type": "execute_result"
    }
   ],
   "source": [
    "Core_weather.index\n"
   ]
  },
  {
   "cell_type": "code",
   "execution_count": 12,
   "id": "630a4838-9a8d-4b23-9458-77b96cb41727",
   "metadata": {},
   "outputs": [
    {
     "data": {
      "text/plain": [
       "Index([1981, 1981, 1981, 1981, 1981, 1981, 1981, 1981, 1981, 1981,\n",
       "       ...\n",
       "       2024, 2024, 2024, 2024, 2024, 2024, 2024, 2024, 2024, 2024],\n",
       "      dtype='int32', name='DATE', length=16040)"
      ]
     },
     "execution_count": 12,
     "metadata": {},
     "output_type": "execute_result"
    }
   ],
   "source": [
    "#subsetting - Helps in avg monthly or yearly analysis\n",
    "#check index by year, month\n",
    "Core_weather.index.year\n"
   ]
  },
  {
   "cell_type": "code",
   "execution_count": 13,
   "id": "dd84f281-90d5-43fc-bb5c-f4a11a65c477",
   "metadata": {},
   "outputs": [
    {
     "data": {
      "text/plain": [
       "Index([ 1,  1,  1,  1,  1,  1,  1,  1,  1,  1,\n",
       "       ...\n",
       "       11, 11, 11, 11, 11, 11, 11, 11, 11, 11],\n",
       "      dtype='int32', name='DATE', length=16040)"
      ]
     },
     "execution_count": 13,
     "metadata": {},
     "output_type": "execute_result"
    }
   ],
   "source": [
    "Core_weather.index.month\n"
   ]
  },
  {
   "cell_type": "raw",
   "id": "e5598660-9f48-4f25-9f46-a89f782d68ce",
   "metadata": {},
   "source": [
    "##Analyzing the weather data"
   ]
  },
  {
   "cell_type": "code",
   "execution_count": 14,
   "id": "5be8f032-d139-4751-baa8-73778d362508",
   "metadata": {},
   "outputs": [
    {
     "data": {
      "text/plain": [
       "<Axes: xlabel='DATE'>"
      ]
     },
     "execution_count": 14,
     "metadata": {},
     "output_type": "execute_result"
    },
    {
     "data": {
      "image/png": "[encoded data removed]",
      "text/plain": [
       "<Figure size 640x480 with 1 Axes>"
      ]
     },
     "metadata": {},
     "output_type": "display_data"
    }
   ],
   "source": [
    "#plot the temp_max and temp_min\n",
    "Core_weather[[\"temp_max\",\"temp_min\"]].plot()\n",
    "\n",
    "#We find that there are outliers with temperature values -999"
   ]
  },
  {
   "cell_type": "code",
   "execution_count": 15,
   "id": "9894b586-6add-41f2-8e67-22ec6745a2ca",
   "metadata": {},
   "outputs": [
    {
     "data": {
      "text/plain": [
       "temp_max       3\n",
       "temp_min       3\n",
       "precip         3\n",
       "Humidity       3\n",
       "w_speed        3\n",
       "s_wetness    152\n",
       "dtype: int64"
      ]
     },
     "execution_count": 15,
     "metadata": {},
     "output_type": "execute_result"
    }
   ],
   "source": [
    "##Above you can notice that there were some tempretarures with values close to-999...this means that they were missing or were not recorded on that day\n",
    "#To fix that, lets find the sum of the cells with those values\n",
    "Core_weather.apply(lambda x: (x==-999).sum())"
   ]
  },
  {
   "cell_type": "code",
   "execution_count": 16,
   "id": "548fb2a1-82d1-4e59-93dd-b1d5e2a4799f",
   "metadata": {},
   "outputs": [],
   "source": [
    "import numpy as np\n",
    "# First replace the value-999 with NaN\n",
    "\n",
    "Core_weather.replace(-999, np.nan, inplace= True)"
   ]
  },
  {
   "cell_type": "code",
   "execution_count": 17,
   "id": "c0d5a90d-aa30-49fd-a7c9-638bfaef0ea5",
   "metadata": {},
   "outputs": [],
   "source": [
    "#Then forward fill the NaN\n",
    "Core_weather.ffill(inplace=True)"
   ]
  },
  {
   "cell_type": "code",
   "execution_count": 18,
   "id": "bc4307dc-e99a-4f39-92e8-fca43cd2e1b5",
   "metadata": {},
   "outputs": [
    {
     "data": {
      "text/plain": [
       "temp_max     0\n",
       "temp_min     0\n",
       "precip       0\n",
       "Humidity     0\n",
       "w_speed      0\n",
       "s_wetness    0\n",
       "dtype: int64"
      ]
     },
     "execution_count": 18,
     "metadata": {},
     "output_type": "execute_result"
    }
   ],
   "source": [
    "#To confirm if the -999 still exist, as we can see below it was replaced\n",
    "Core_weather.apply(lambda x: (x==-999).sum())"
   ]
  },
  {
   "cell_type": "code",
   "execution_count": 19,
   "id": "56ac7b58-b06f-4c32-adc4-3ed6a3df8140",
   "metadata": {
    "scrolled": true
   },
   "outputs": [
    {
     "data": {
      "text/plain": [
       "<Axes: xlabel='DATE'>"
      ]
     },
     "execution_count": 19,
     "metadata": {},
     "output_type": "execute_result"
    },
    {
     "data": {
      "image/png": "[encoded data removed]",
      "text/plain": [
       "<Figure size 640x480 with 1 Axes>"
      ]
     },
     "metadata": {},
     "output_type": "display_data"
    }
   ],
   "source": [
    "#Lets plot again to see the difference\n",
    "Core_weather[[\"temp_max\",\"temp_min\"]].plot()\n",
    "\n",
    "#The plots appear uniform without outliers"
   ]
  },
  {
   "cell_type": "code",
   "execution_count": null,
   "id": "aef9f8b6-a74c-4fa9-b2f9-4b4863b7564e",
   "metadata": {},
   "outputs": [],
   "source": []
  },
  {
   "cell_type": "code",
   "execution_count": 20,
   "id": "ef845764-8d6c-4f37-98af-32743fc1b076",
   "metadata": {},
   "outputs": [
    {
     "data": {
      "text/plain": [
       "<Axes: xlabel='DATE'>"
      ]
     },
     "execution_count": 20,
     "metadata": {},
     "output_type": "execute_result"
    },
    {
     "data": {
      "image/png": "[encoded data removed]",
      "text/plain": [
       "<Figure size 640x480 with 1 Axes>"
      ]
     },
     "metadata": {},
     "output_type": "display_data"
    }
   ],
   "source": [
    "#Plotting the precipitation data\n",
    "Core_weather[[\"precip\"]].plot()"
   ]
  },
  {
   "cell_type": "code",
   "execution_count": 21,
   "id": "27c22b48-f424-46c7-a426-8e4d27f665c1",
   "metadata": {},
   "outputs": [
    {
     "data": {
      "text/plain": [
       "<Axes: xlabel='DATE'>"
      ]
     },
     "execution_count": 21,
     "metadata": {},
     "output_type": "execute_result"
    },
    {
     "data": {
      "image/png": "[encoded data removed]",
      "text/plain": [
       "<Figure size 640x480 with 1 Axes>"
      ]
     },
     "metadata": {},
     "output_type": "display_data"
    }
   ],
   "source": [
    "#Plotting the humidity data\n",
    "Core_weather[[\"Humidity\"]].plot()"
   ]
  },
  {
   "cell_type": "code",
   "execution_count": 22,
   "id": "aea70462-df9a-4167-ac82-5d19fddc1b21",
   "metadata": {},
   "outputs": [
    {
     "data": {
      "text/plain": [
       "<Axes: xlabel='DATE'>"
      ]
     },
     "execution_count": 22,
     "metadata": {},
     "output_type": "execute_result"
    },
    {
     "data": {
      "image/png": "[encoded data removed]",
      "text/plain": [
       "<Figure size 640x480 with 1 Axes>"
      ]
     },
     "metadata": {},
     "output_type": "display_data"
    }
   ],
   "source": [
    "#Plotting the wind speed data\n",
    "Core_weather[[\"w_speed\"]].plot()"
   ]
  },
  {
   "cell_type": "code",
   "execution_count": 23,
   "id": "682b8ad3-9c40-4d52-a5b4-5882d479cb5e",
   "metadata": {},
   "outputs": [
    {
     "data": {
      "text/plain": [
       "<Axes: xlabel='DATE'>"
      ]
     },
     "execution_count": 23,
     "metadata": {},
     "output_type": "execute_result"
    },
    {
     "data": {
      "image/png": "[encoded data removed]",
      "text/plain": [
       "<Figure size 640x480 with 1 Axes>"
      ]
     },
     "metadata": {},
     "output_type": "display_data"
    }
   ],
   "source": [
    "#Plotting the soil wetness data\n",
    "Core_weather[[\"s_wetness\"]].plot()"
   ]
  },
  {
   "cell_type": "code",
   "execution_count": 24,
   "id": "0a1c613e-e0fa-48d2-8519-0a097cdb033c",
   "metadata": {},
   "outputs": [
    {
     "data": {
      "text/html": [
       "<div>\n",
       "<style scoped>\n",
       "    .dataframe tbody tr th:only-of-type {\n",
       "        vertical-align: middle;\n",
       "    }\n",
       "\n",
       "    .dataframe tbody tr th {\n",
       "        vertical-align: top;\n",
       "    }\n",
       "\n",
       "    .dataframe thead th {\n",
       "        text-align: right;\n",
       "    }\n",
       "</style>\n",
       "<table border=\"1\" class=\"dataframe\">\n",
       "  <thead>\n",
       "    <tr style=\"text-align: right;\">\n",
       "      <th></th>\n",
       "      <th>temp_max</th>\n",
       "      <th>temp_min</th>\n",
       "      <th>precip</th>\n",
       "      <th>Humidity</th>\n",
       "      <th>w_speed</th>\n",
       "      <th>s_wetness</th>\n",
       "    </tr>\n",
       "    <tr>\n",
       "      <th>DATE</th>\n",
       "      <th></th>\n",
       "      <th></th>\n",
       "      <th></th>\n",
       "      <th></th>\n",
       "      <th></th>\n",
       "      <th></th>\n",
       "    </tr>\n",
       "  </thead>\n",
       "  <tbody>\n",
       "    <tr>\n",
       "      <th>1981</th>\n",
       "      <td>7817.81</td>\n",
       "      <td>3805.18</td>\n",
       "      <td>1856.43</td>\n",
       "      <td>3945.73</td>\n",
       "      <td>608.17</td>\n",
       "      <td>255.36</td>\n",
       "    </tr>\n",
       "    <tr>\n",
       "      <th>1982</th>\n",
       "      <td>7688.98</td>\n",
       "      <td>3725.14</td>\n",
       "      <td>1976.38</td>\n",
       "      <td>3976.00</td>\n",
       "      <td>601.75</td>\n",
       "      <td>264.98</td>\n",
       "    </tr>\n",
       "    <tr>\n",
       "      <th>1983</th>\n",
       "      <td>7735.56</td>\n",
       "      <td>3797.72</td>\n",
       "      <td>1505.25</td>\n",
       "      <td>4058.68</td>\n",
       "      <td>548.97</td>\n",
       "      <td>251.79</td>\n",
       "    </tr>\n",
       "    <tr>\n",
       "      <th>1984</th>\n",
       "      <td>8166.13</td>\n",
       "      <td>3547.08</td>\n",
       "      <td>1083.46</td>\n",
       "      <td>3643.00</td>\n",
       "      <td>661.50</td>\n",
       "      <td>199.23</td>\n",
       "    </tr>\n",
       "    <tr>\n",
       "      <th>1985</th>\n",
       "      <td>7767.89</td>\n",
       "      <td>3604.99</td>\n",
       "      <td>1668.45</td>\n",
       "      <td>3824.16</td>\n",
       "      <td>617.61</td>\n",
       "      <td>243.47</td>\n",
       "    </tr>\n",
       "    <tr>\n",
       "      <th>1986</th>\n",
       "      <td>7810.04</td>\n",
       "      <td>3584.80</td>\n",
       "      <td>1572.99</td>\n",
       "      <td>3788.11</td>\n",
       "      <td>613.24</td>\n",
       "      <td>228.73</td>\n",
       "    </tr>\n",
       "    <tr>\n",
       "      <th>1987</th>\n",
       "      <td>7816.70</td>\n",
       "      <td>3697.48</td>\n",
       "      <td>1706.66</td>\n",
       "      <td>3983.47</td>\n",
       "      <td>573.19</td>\n",
       "      <td>254.68</td>\n",
       "    </tr>\n",
       "    <tr>\n",
       "      <th>1988</th>\n",
       "      <td>7825.56</td>\n",
       "      <td>3774.87</td>\n",
       "      <td>1952.51</td>\n",
       "      <td>3983.39</td>\n",
       "      <td>612.06</td>\n",
       "      <td>260.89</td>\n",
       "    </tr>\n",
       "    <tr>\n",
       "      <th>1989</th>\n",
       "      <td>7522.66</td>\n",
       "      <td>3556.83</td>\n",
       "      <td>1800.32</td>\n",
       "      <td>3911.83</td>\n",
       "      <td>599.90</td>\n",
       "      <td>262.03</td>\n",
       "    </tr>\n",
       "    <tr>\n",
       "      <th>1990</th>\n",
       "      <td>7511.14</td>\n",
       "      <td>3769.36</td>\n",
       "      <td>1706.03</td>\n",
       "      <td>4070.61</td>\n",
       "      <td>567.09</td>\n",
       "      <td>278.72</td>\n",
       "    </tr>\n",
       "    <tr>\n",
       "      <th>1991</th>\n",
       "      <td>7810.04</td>\n",
       "      <td>3704.94</td>\n",
       "      <td>1520.76</td>\n",
       "      <td>3911.95</td>\n",
       "      <td>588.44</td>\n",
       "      <td>236.59</td>\n",
       "    </tr>\n",
       "    <tr>\n",
       "      <th>1992</th>\n",
       "      <td>7937.67</td>\n",
       "      <td>3733.32</td>\n",
       "      <td>1455.96</td>\n",
       "      <td>3880.92</td>\n",
       "      <td>614.77</td>\n",
       "      <td>226.17</td>\n",
       "    </tr>\n",
       "    <tr>\n",
       "      <th>1993</th>\n",
       "      <td>7875.22</td>\n",
       "      <td>3630.07</td>\n",
       "      <td>1364.66</td>\n",
       "      <td>3861.24</td>\n",
       "      <td>624.60</td>\n",
       "      <td>221.21</td>\n",
       "    </tr>\n",
       "    <tr>\n",
       "      <th>1994</th>\n",
       "      <td>7980.66</td>\n",
       "      <td>3741.30</td>\n",
       "      <td>1679.86</td>\n",
       "      <td>3869.96</td>\n",
       "      <td>610.43</td>\n",
       "      <td>231.01</td>\n",
       "    </tr>\n",
       "    <tr>\n",
       "      <th>1995</th>\n",
       "      <td>7763.34</td>\n",
       "      <td>3724.60</td>\n",
       "      <td>1623.65</td>\n",
       "      <td>3990.61</td>\n",
       "      <td>587.67</td>\n",
       "      <td>243.54</td>\n",
       "    </tr>\n",
       "    <tr>\n",
       "      <th>1996</th>\n",
       "      <td>7857.23</td>\n",
       "      <td>3743.67</td>\n",
       "      <td>1359.80</td>\n",
       "      <td>3943.34</td>\n",
       "      <td>579.82</td>\n",
       "      <td>224.46</td>\n",
       "    </tr>\n",
       "    <tr>\n",
       "      <th>1997</th>\n",
       "      <td>7933.03</td>\n",
       "      <td>3692.81</td>\n",
       "      <td>1842.26</td>\n",
       "      <td>3872.07</td>\n",
       "      <td>634.16</td>\n",
       "      <td>239.55</td>\n",
       "    </tr>\n",
       "    <tr>\n",
       "      <th>1998</th>\n",
       "      <td>7592.48</td>\n",
       "      <td>3854.69</td>\n",
       "      <td>1855.06</td>\n",
       "      <td>4177.24</td>\n",
       "      <td>584.68</td>\n",
       "      <td>293.70</td>\n",
       "    </tr>\n",
       "    <tr>\n",
       "      <th>1999</th>\n",
       "      <td>8040.10</td>\n",
       "      <td>3663.47</td>\n",
       "      <td>1147.59</td>\n",
       "      <td>3763.88</td>\n",
       "      <td>598.46</td>\n",
       "      <td>205.41</td>\n",
       "    </tr>\n",
       "    <tr>\n",
       "      <th>2000</th>\n",
       "      <td>8569.03</td>\n",
       "      <td>3713.49</td>\n",
       "      <td>947.80</td>\n",
       "      <td>3545.70</td>\n",
       "      <td>639.90</td>\n",
       "      <td>176.42</td>\n",
       "    </tr>\n",
       "    <tr>\n",
       "      <th>2001</th>\n",
       "      <td>7957.94</td>\n",
       "      <td>3840.02</td>\n",
       "      <td>1517.00</td>\n",
       "      <td>3892.88</td>\n",
       "      <td>548.84</td>\n",
       "      <td>213.27</td>\n",
       "    </tr>\n",
       "    <tr>\n",
       "      <th>2002</th>\n",
       "      <td>8209.49</td>\n",
       "      <td>3815.79</td>\n",
       "      <td>1403.12</td>\n",
       "      <td>3841.53</td>\n",
       "      <td>583.41</td>\n",
       "      <td>204.10</td>\n",
       "    </tr>\n",
       "    <tr>\n",
       "      <th>2003</th>\n",
       "      <td>8014.23</td>\n",
       "      <td>3759.61</td>\n",
       "      <td>1453.52</td>\n",
       "      <td>3856.59</td>\n",
       "      <td>610.19</td>\n",
       "      <td>225.34</td>\n",
       "    </tr>\n",
       "    <tr>\n",
       "      <th>2004</th>\n",
       "      <td>8197.89</td>\n",
       "      <td>3900.48</td>\n",
       "      <td>1199.56</td>\n",
       "      <td>3888.50</td>\n",
       "      <td>596.90</td>\n",
       "      <td>201.31</td>\n",
       "    </tr>\n",
       "    <tr>\n",
       "      <th>2005</th>\n",
       "      <td>8502.22</td>\n",
       "      <td>3909.77</td>\n",
       "      <td>1003.64</td>\n",
       "      <td>3727.25</td>\n",
       "      <td>621.23</td>\n",
       "      <td>184.48</td>\n",
       "    </tr>\n",
       "    <tr>\n",
       "      <th>2006</th>\n",
       "      <td>8219.48</td>\n",
       "      <td>4045.11</td>\n",
       "      <td>1555.83</td>\n",
       "      <td>3914.59</td>\n",
       "      <td>598.42</td>\n",
       "      <td>198.37</td>\n",
       "    </tr>\n",
       "    <tr>\n",
       "      <th>2007</th>\n",
       "      <td>7675.94</td>\n",
       "      <td>3817.23</td>\n",
       "      <td>1394.77</td>\n",
       "      <td>4001.49</td>\n",
       "      <td>589.72</td>\n",
       "      <td>242.35</td>\n",
       "    </tr>\n",
       "    <tr>\n",
       "      <th>2008</th>\n",
       "      <td>7952.94</td>\n",
       "      <td>3858.59</td>\n",
       "      <td>1293.54</td>\n",
       "      <td>3875.79</td>\n",
       "      <td>593.17</td>\n",
       "      <td>209.27</td>\n",
       "    </tr>\n",
       "    <tr>\n",
       "      <th>2009</th>\n",
       "      <td>8333.39</td>\n",
       "      <td>3944.56</td>\n",
       "      <td>1192.57</td>\n",
       "      <td>3802.86</td>\n",
       "      <td>633.89</td>\n",
       "      <td>189.71</td>\n",
       "    </tr>\n",
       "    <tr>\n",
       "      <th>2010</th>\n",
       "      <td>7619.88</td>\n",
       "      <td>3948.81</td>\n",
       "      <td>1692.12</td>\n",
       "      <td>4140.81</td>\n",
       "      <td>574.27</td>\n",
       "      <td>252.07</td>\n",
       "    </tr>\n",
       "    <tr>\n",
       "      <th>2011</th>\n",
       "      <td>7817.19</td>\n",
       "      <td>3913.66</td>\n",
       "      <td>1569.60</td>\n",
       "      <td>3966.67</td>\n",
       "      <td>549.40</td>\n",
       "      <td>225.54</td>\n",
       "    </tr>\n",
       "    <tr>\n",
       "      <th>2012</th>\n",
       "      <td>7639.16</td>\n",
       "      <td>3809.08</td>\n",
       "      <td>1815.41</td>\n",
       "      <td>3992.38</td>\n",
       "      <td>566.63</td>\n",
       "      <td>258.02</td>\n",
       "    </tr>\n",
       "    <tr>\n",
       "      <th>2013</th>\n",
       "      <td>7561.52</td>\n",
       "      <td>3925.46</td>\n",
       "      <td>1492.68</td>\n",
       "      <td>4127.77</td>\n",
       "      <td>541.00</td>\n",
       "      <td>271.74</td>\n",
       "    </tr>\n",
       "    <tr>\n",
       "      <th>2014</th>\n",
       "      <td>7866.92</td>\n",
       "      <td>4003.64</td>\n",
       "      <td>1155.55</td>\n",
       "      <td>4057.69</td>\n",
       "      <td>555.81</td>\n",
       "      <td>216.68</td>\n",
       "    </tr>\n",
       "    <tr>\n",
       "      <th>2015</th>\n",
       "      <td>8053.61</td>\n",
       "      <td>3980.01</td>\n",
       "      <td>1776.31</td>\n",
       "      <td>3966.15</td>\n",
       "      <td>580.25</td>\n",
       "      <td>226.23</td>\n",
       "    </tr>\n",
       "    <tr>\n",
       "      <th>2016</th>\n",
       "      <td>7772.38</td>\n",
       "      <td>4045.56</td>\n",
       "      <td>1322.06</td>\n",
       "      <td>4183.29</td>\n",
       "      <td>577.28</td>\n",
       "      <td>249.48</td>\n",
       "    </tr>\n",
       "    <tr>\n",
       "      <th>2017</th>\n",
       "      <td>7973.22</td>\n",
       "      <td>3953.67</td>\n",
       "      <td>1717.51</td>\n",
       "      <td>4018.78</td>\n",
       "      <td>616.23</td>\n",
       "      <td>231.33</td>\n",
       "    </tr>\n",
       "    <tr>\n",
       "      <th>2018</th>\n",
       "      <td>7425.43</td>\n",
       "      <td>3920.78</td>\n",
       "      <td>2138.59</td>\n",
       "      <td>4153.40</td>\n",
       "      <td>574.33</td>\n",
       "      <td>288.30</td>\n",
       "    </tr>\n",
       "    <tr>\n",
       "      <th>2019</th>\n",
       "      <td>7884.00</td>\n",
       "      <td>4091.77</td>\n",
       "      <td>1984.58</td>\n",
       "      <td>4180.45</td>\n",
       "      <td>578.93</td>\n",
       "      <td>246.05</td>\n",
       "    </tr>\n",
       "    <tr>\n",
       "      <th>2020</th>\n",
       "      <td>7422.86</td>\n",
       "      <td>4046.28</td>\n",
       "      <td>2471.91</td>\n",
       "      <td>4341.10</td>\n",
       "      <td>572.28</td>\n",
       "      <td>317.13</td>\n",
       "    </tr>\n",
       "    <tr>\n",
       "      <th>2021</th>\n",
       "      <td>7546.80</td>\n",
       "      <td>3945.05</td>\n",
       "      <td>1610.86</td>\n",
       "      <td>4184.22</td>\n",
       "      <td>576.16</td>\n",
       "      <td>278.33</td>\n",
       "    </tr>\n",
       "    <tr>\n",
       "      <th>2022</th>\n",
       "      <td>7721.40</td>\n",
       "      <td>3838.35</td>\n",
       "      <td>1595.41</td>\n",
       "      <td>4045.11</td>\n",
       "      <td>561.63</td>\n",
       "      <td>245.78</td>\n",
       "    </tr>\n",
       "    <tr>\n",
       "      <th>2023</th>\n",
       "      <td>7860.16</td>\n",
       "      <td>3950.69</td>\n",
       "      <td>2202.72</td>\n",
       "      <td>4179.13</td>\n",
       "      <td>580.18</td>\n",
       "      <td>261.60</td>\n",
       "    </tr>\n",
       "    <tr>\n",
       "      <th>2024</th>\n",
       "      <td>6929.40</td>\n",
       "      <td>3841.25</td>\n",
       "      <td>4703.70</td>\n",
       "      <td>4095.35</td>\n",
       "      <td>481.58</td>\n",
       "      <td>281.12</td>\n",
       "    </tr>\n",
       "  </tbody>\n",
       "</table>\n",
       "</div>"
      ],
      "text/plain": [
       "      temp_max  temp_min   precip  Humidity  w_speed  s_wetness\n",
       "DATE                                                           \n",
       "1981   7817.81   3805.18  1856.43   3945.73   608.17     255.36\n",
       "1982   7688.98   3725.14  1976.38   3976.00   601.75     264.98\n",
       "1983   7735.56   3797.72  1505.25   4058.68   548.97     251.79\n",
       "1984   8166.13   3547.08  1083.46   3643.00   661.50     199.23\n",
       "1985   7767.89   3604.99  1668.45   3824.16   617.61     243.47\n",
       "1986   7810.04   3584.80  1572.99   3788.11   613.24     228.73\n",
       "1987   7816.70   3697.48  1706.66   3983.47   573.19     254.68\n",
       "1988   7825.56   3774.87  1952.51   3983.39   612.06     260.89\n",
       "1989   7522.66   3556.83  1800.32   3911.83   599.90     262.03\n",
       "1990   7511.14   3769.36  1706.03   4070.61   567.09     278.72\n",
       "1991   7810.04   3704.94  1520.76   3911.95   588.44     236.59\n",
       "1992   7937.67   3733.32  1455.96   3880.92   614.77     226.17\n",
       "1993   7875.22   3630.07  1364.66   3861.24   624.60     221.21\n",
       "1994   7980.66   3741.30  1679.86   3869.96   610.43     231.01\n",
       "1995   7763.34   3724.60  1623.65   3990.61   587.67     243.54\n",
       "1996   7857.23   3743.67  1359.80   3943.34   579.82     224.46\n",
       "1997   7933.03   3692.81  1842.26   3872.07   634.16     239.55\n",
       "1998   7592.48   3854.69  1855.06   4177.24   584.68     293.70\n",
       "1999   8040.10   3663.47  1147.59   3763.88   598.46     205.41\n",
       "2000   8569.03   3713.49   947.80   3545.70   639.90     176.42\n",
       "2001   7957.94   3840.02  1517.00   3892.88   548.84     213.27\n",
       "2002   8209.49   3815.79  1403.12   3841.53   583.41     204.10\n",
       "2003   8014.23   3759.61  1453.52   3856.59   610.19     225.34\n",
       "2004   8197.89   3900.48  1199.56   3888.50   596.90     201.31\n",
       "2005   8502.22   3909.77  1003.64   3727.25   621.23     184.48\n",
       "2006   8219.48   4045.11  1555.83   3914.59   598.42     198.37\n",
       "2007   7675.94   3817.23  1394.77   4001.49   589.72     242.35\n",
       "2008   7952.94   3858.59  1293.54   3875.79   593.17     209.27\n",
       "2009   8333.39   3944.56  1192.57   3802.86   633.89     189.71\n",
       "2010   7619.88   3948.81  1692.12   4140.81   574.27     252.07\n",
       "2011   7817.19   3913.66  1569.60   3966.67   549.40     225.54\n",
       "2012   7639.16   3809.08  1815.41   3992.38   566.63     258.02\n",
       "2013   7561.52   3925.46  1492.68   4127.77   541.00     271.74\n",
       "2014   7866.92   4003.64  1155.55   4057.69   555.81     216.68\n",
       "2015   8053.61   3980.01  1776.31   3966.15   580.25     226.23\n",
       "2016   7772.38   4045.56  1322.06   4183.29   577.28     249.48\n",
       "2017   7973.22   3953.67  1717.51   4018.78   616.23     231.33\n",
       "2018   7425.43   3920.78  2138.59   4153.40   574.33     288.30\n",
       "2019   7884.00   4091.77  1984.58   4180.45   578.93     246.05\n",
       "2020   7422.86   4046.28  2471.91   4341.10   572.28     317.13\n",
       "2021   7546.80   3945.05  1610.86   4184.22   576.16     278.33\n",
       "2022   7721.40   3838.35  1595.41   4045.11   561.63     245.78\n",
       "2023   7860.16   3950.69  2202.72   4179.13   580.18     261.60\n",
       "2024   6929.40   3841.25  4703.70   4095.35   481.58     281.12"
      ]
     },
     "execution_count": 24,
     "metadata": {},
     "output_type": "execute_result"
    }
   ],
   "source": [
    "#To perform seasonal or yearly analysis\n",
    "Core_weather.groupby(Core_weather.index.year).sum()"
   ]
  },
  {
   "cell_type": "code",
   "execution_count": 25,
   "id": "3f3520c0-d84a-4a57-b1bd-15b88578997e",
   "metadata": {},
   "outputs": [
    {
     "data": {
      "text/html": [
       "<div>\n",
       "<style scoped>\n",
       "    .dataframe tbody tr th:only-of-type {\n",
       "        vertical-align: middle;\n",
       "    }\n",
       "\n",
       "    .dataframe tbody tr th {\n",
       "        vertical-align: top;\n",
       "    }\n",
       "\n",
       "    .dataframe thead th {\n",
       "        text-align: right;\n",
       "    }\n",
       "</style>\n",
       "<table border=\"1\" class=\"dataframe\">\n",
       "  <thead>\n",
       "    <tr style=\"text-align: right;\">\n",
       "      <th></th>\n",
       "      <th>temp_max</th>\n",
       "      <th>temp_min</th>\n",
       "      <th>precip</th>\n",
       "      <th>Humidity</th>\n",
       "      <th>w_speed</th>\n",
       "      <th>s_wetness</th>\n",
       "    </tr>\n",
       "    <tr>\n",
       "      <th>DATE</th>\n",
       "      <th></th>\n",
       "      <th></th>\n",
       "      <th></th>\n",
       "      <th></th>\n",
       "      <th></th>\n",
       "      <th></th>\n",
       "    </tr>\n",
       "  </thead>\n",
       "  <tbody>\n",
       "    <tr>\n",
       "      <th>1</th>\n",
       "      <td>29976.51</td>\n",
       "      <td>12847.89</td>\n",
       "      <td>2466.48</td>\n",
       "      <td>13410.45</td>\n",
       "      <td>2820.57</td>\n",
       "      <td>832.00</td>\n",
       "    </tr>\n",
       "    <tr>\n",
       "      <th>2</th>\n",
       "      <td>29352.70</td>\n",
       "      <td>11925.51</td>\n",
       "      <td>2473.52</td>\n",
       "      <td>11798.50</td>\n",
       "      <td>2617.24</td>\n",
       "      <td>697.13</td>\n",
       "    </tr>\n",
       "    <tr>\n",
       "      <th>3</th>\n",
       "      <td>33059.31</td>\n",
       "      <td>14663.79</td>\n",
       "      <td>5277.37</td>\n",
       "      <td>13982.13</td>\n",
       "      <td>2836.62</td>\n",
       "      <td>754.84</td>\n",
       "    </tr>\n",
       "    <tr>\n",
       "      <th>4</th>\n",
       "      <td>29681.56</td>\n",
       "      <td>15491.26</td>\n",
       "      <td>11675.93</td>\n",
       "      <td>15305.83</td>\n",
       "      <td>2132.90</td>\n",
       "      <td>840.23</td>\n",
       "    </tr>\n",
       "    <tr>\n",
       "      <th>5</th>\n",
       "      <td>28973.19</td>\n",
       "      <td>15491.17</td>\n",
       "      <td>9448.08</td>\n",
       "      <td>16039.37</td>\n",
       "      <td>1811.18</td>\n",
       "      <td>954.25</td>\n",
       "    </tr>\n",
       "    <tr>\n",
       "      <th>6</th>\n",
       "      <td>26767.09</td>\n",
       "      <td>14158.72</td>\n",
       "      <td>5192.67</td>\n",
       "      <td>14860.46</td>\n",
       "      <td>1598.12</td>\n",
       "      <td>910.07</td>\n",
       "    </tr>\n",
       "    <tr>\n",
       "      <th>7</th>\n",
       "      <td>27021.91</td>\n",
       "      <td>13760.66</td>\n",
       "      <td>5782.40</td>\n",
       "      <td>14908.00</td>\n",
       "      <td>1704.42</td>\n",
       "      <td>935.64</td>\n",
       "    </tr>\n",
       "    <tr>\n",
       "      <th>8</th>\n",
       "      <td>27574.28</td>\n",
       "      <td>13781.84</td>\n",
       "      <td>6576.65</td>\n",
       "      <td>14984.50</td>\n",
       "      <td>1654.44</td>\n",
       "      <td>949.16</td>\n",
       "    </tr>\n",
       "    <tr>\n",
       "      <th>9</th>\n",
       "      <td>28199.37</td>\n",
       "      <td>13264.48</td>\n",
       "      <td>5363.89</td>\n",
       "      <td>14361.16</td>\n",
       "      <td>1560.40</td>\n",
       "      <td>906.17</td>\n",
       "    </tr>\n",
       "    <tr>\n",
       "      <th>10</th>\n",
       "      <td>29395.92</td>\n",
       "      <td>14337.49</td>\n",
       "      <td>6727.56</td>\n",
       "      <td>15227.52</td>\n",
       "      <td>1863.95</td>\n",
       "      <td>928.81</td>\n",
       "    </tr>\n",
       "    <tr>\n",
       "      <th>11</th>\n",
       "      <td>27307.25</td>\n",
       "      <td>14743.61</td>\n",
       "      <td>8175.01</td>\n",
       "      <td>15200.92</td>\n",
       "      <td>2443.04</td>\n",
       "      <td>921.06</td>\n",
       "    </tr>\n",
       "    <tr>\n",
       "      <th>12</th>\n",
       "      <td>27869.63</td>\n",
       "      <td>13704.61</td>\n",
       "      <td>3728.88</td>\n",
       "      <td>14356.83</td>\n",
       "      <td>2885.26</td>\n",
       "      <td>886.18</td>\n",
       "    </tr>\n",
       "  </tbody>\n",
       "</table>\n",
       "</div>"
      ],
      "text/plain": [
       "      temp_max  temp_min    precip  Humidity  w_speed  s_wetness\n",
       "DATE                                                            \n",
       "1     29976.51  12847.89   2466.48  13410.45  2820.57     832.00\n",
       "2     29352.70  11925.51   2473.52  11798.50  2617.24     697.13\n",
       "3     33059.31  14663.79   5277.37  13982.13  2836.62     754.84\n",
       "4     29681.56  15491.26  11675.93  15305.83  2132.90     840.23\n",
       "5     28973.19  15491.17   9448.08  16039.37  1811.18     954.25\n",
       "6     26767.09  14158.72   5192.67  14860.46  1598.12     910.07\n",
       "7     27021.91  13760.66   5782.40  14908.00  1704.42     935.64\n",
       "8     27574.28  13781.84   6576.65  14984.50  1654.44     949.16\n",
       "9     28199.37  13264.48   5363.89  14361.16  1560.40     906.17\n",
       "10    29395.92  14337.49   6727.56  15227.52  1863.95     928.81\n",
       "11    27307.25  14743.61   8175.01  15200.92  2443.04     921.06\n",
       "12    27869.63  13704.61   3728.88  14356.83  2885.26     886.18"
      ]
     },
     "execution_count": 25,
     "metadata": {},
     "output_type": "execute_result"
    }
   ],
   "source": [
    "#To perform seasonal analysis by month\n",
    "Core_weather.groupby(Core_weather.index.month).sum()"
   ]
  },
  {
   "cell_type": "code",
   "execution_count": 26,
   "id": "3518f95b-90da-4862-9ebf-afd04509261c",
   "metadata": {},
   "outputs": [
    {
     "data": {
      "text/html": [
       "<div>\n",
       "<style scoped>\n",
       "    .dataframe tbody tr th:only-of-type {\n",
       "        vertical-align: middle;\n",
       "    }\n",
       "\n",
       "    .dataframe tbody tr th {\n",
       "        vertical-align: top;\n",
       "    }\n",
       "\n",
       "    .dataframe thead th {\n",
       "        text-align: right;\n",
       "    }\n",
       "</style>\n",
       "<table border=\"1\" class=\"dataframe\">\n",
       "  <thead>\n",
       "    <tr style=\"text-align: right;\">\n",
       "      <th></th>\n",
       "      <th>temp_max</th>\n",
       "      <th>temp_min</th>\n",
       "      <th>precip</th>\n",
       "      <th>Humidity</th>\n",
       "      <th>w_speed</th>\n",
       "      <th>s_wetness</th>\n",
       "    </tr>\n",
       "    <tr>\n",
       "      <th>DATE</th>\n",
       "      <th></th>\n",
       "      <th></th>\n",
       "      <th></th>\n",
       "      <th></th>\n",
       "      <th></th>\n",
       "      <th></th>\n",
       "    </tr>\n",
       "  </thead>\n",
       "  <tbody>\n",
       "    <tr>\n",
       "      <th>1981-01-01</th>\n",
       "      <td>23.28</td>\n",
       "      <td>6.56</td>\n",
       "      <td>3.18</td>\n",
       "      <td>8.24</td>\n",
       "      <td>1.76</td>\n",
       "      <td>0.50</td>\n",
       "    </tr>\n",
       "    <tr>\n",
       "      <th>1981-01-02</th>\n",
       "      <td>22.72</td>\n",
       "      <td>9.72</td>\n",
       "      <td>3.14</td>\n",
       "      <td>8.73</td>\n",
       "      <td>1.88</td>\n",
       "      <td>0.51</td>\n",
       "    </tr>\n",
       "    <tr>\n",
       "      <th>1981-01-03</th>\n",
       "      <td>23.03</td>\n",
       "      <td>8.87</td>\n",
       "      <td>1.76</td>\n",
       "      <td>8.54</td>\n",
       "      <td>1.73</td>\n",
       "      <td>0.52</td>\n",
       "    </tr>\n",
       "    <tr>\n",
       "      <th>1981-01-04</th>\n",
       "      <td>23.34</td>\n",
       "      <td>8.09</td>\n",
       "      <td>0.12</td>\n",
       "      <td>8.91</td>\n",
       "      <td>1.95</td>\n",
       "      <td>0.49</td>\n",
       "    </tr>\n",
       "    <tr>\n",
       "      <th>1981-01-05</th>\n",
       "      <td>23.78</td>\n",
       "      <td>8.94</td>\n",
       "      <td>0.02</td>\n",
       "      <td>9.40</td>\n",
       "      <td>2.03</td>\n",
       "      <td>0.48</td>\n",
       "    </tr>\n",
       "    <tr>\n",
       "      <th>...</th>\n",
       "      <td>...</td>\n",
       "      <td>...</td>\n",
       "      <td>...</td>\n",
       "      <td>...</td>\n",
       "      <td>...</td>\n",
       "      <td>...</td>\n",
       "    </tr>\n",
       "    <tr>\n",
       "      <th>2024-11-26</th>\n",
       "      <td>19.38</td>\n",
       "      <td>12.08</td>\n",
       "      <td>51.01</td>\n",
       "      <td>12.57</td>\n",
       "      <td>0.81</td>\n",
       "      <td>0.84</td>\n",
       "    </tr>\n",
       "    <tr>\n",
       "      <th>2024-11-27</th>\n",
       "      <td>18.81</td>\n",
       "      <td>13.21</td>\n",
       "      <td>150.75</td>\n",
       "      <td>12.94</td>\n",
       "      <td>0.55</td>\n",
       "      <td>0.84</td>\n",
       "    </tr>\n",
       "    <tr>\n",
       "      <th>2024-11-28</th>\n",
       "      <td>18.76</td>\n",
       "      <td>13.04</td>\n",
       "      <td>26.19</td>\n",
       "      <td>13.24</td>\n",
       "      <td>1.30</td>\n",
       "      <td>0.84</td>\n",
       "    </tr>\n",
       "    <tr>\n",
       "      <th>2024-11-29</th>\n",
       "      <td>18.09</td>\n",
       "      <td>12.69</td>\n",
       "      <td>111.23</td>\n",
       "      <td>13.00</td>\n",
       "      <td>1.52</td>\n",
       "      <td>0.84</td>\n",
       "    </tr>\n",
       "    <tr>\n",
       "      <th>2024-11-30</th>\n",
       "      <td>18.69</td>\n",
       "      <td>11.67</td>\n",
       "      <td>17.26</td>\n",
       "      <td>12.21</td>\n",
       "      <td>1.30</td>\n",
       "      <td>0.84</td>\n",
       "    </tr>\n",
       "  </tbody>\n",
       "</table>\n",
       "<p>16040 rows × 6 columns</p>\n",
       "</div>"
      ],
      "text/plain": [
       "            temp_max  temp_min  precip  Humidity  w_speed  s_wetness\n",
       "DATE                                                                \n",
       "1981-01-01     23.28      6.56    3.18      8.24     1.76       0.50\n",
       "1981-01-02     22.72      9.72    3.14      8.73     1.88       0.51\n",
       "1981-01-03     23.03      8.87    1.76      8.54     1.73       0.52\n",
       "1981-01-04     23.34      8.09    0.12      8.91     1.95       0.49\n",
       "1981-01-05     23.78      8.94    0.02      9.40     2.03       0.48\n",
       "...              ...       ...     ...       ...      ...        ...\n",
       "2024-11-26     19.38     12.08   51.01     12.57     0.81       0.84\n",
       "2024-11-27     18.81     13.21  150.75     12.94     0.55       0.84\n",
       "2024-11-28     18.76     13.04   26.19     13.24     1.30       0.84\n",
       "2024-11-29     18.09     12.69  111.23     13.00     1.52       0.84\n",
       "2024-11-30     18.69     11.67   17.26     12.21     1.30       0.84\n",
       "\n",
       "[16040 rows x 6 columns]"
      ]
     },
     "execution_count": 26,
     "metadata": {},
     "output_type": "execute_result"
    }
   ],
   "source": [
    "Core_weather"
   ]
  },
  {
   "cell_type": "code",
   "execution_count": 27,
   "id": "aab9bd41-3259-47a3-b0a5-bbe7cbb58167",
   "metadata": {},
   "outputs": [
    {
     "name": "stdout",
     "output_type": "stream",
     "text": [
      "<class 'pandas.core.frame.DataFrame'>\n",
      "DatetimeIndex: 16040 entries, 1981-01-01 to 2024-11-30\n",
      "Data columns (total 6 columns):\n",
      " #   Column     Non-Null Count  Dtype  \n",
      "---  ------     --------------  -----  \n",
      " 0   temp_max   16040 non-null  float64\n",
      " 1   temp_min   16040 non-null  float64\n",
      " 2   precip     16040 non-null  float64\n",
      " 3   Humidity   16040 non-null  float64\n",
      " 4   w_speed    16040 non-null  float64\n",
      " 5   s_wetness  16040 non-null  float64\n",
      "dtypes: float64(6)\n",
      "memory usage: 877.2 KB\n"
     ]
    }
   ],
   "source": [
    "Core_weather.info()"
   ]
  },
  {
   "cell_type": "raw",
   "id": "25b59bad-5fa0-4fee-93d3-d3bf4b9c0da5",
   "metadata": {},
   "source": [
    "##To create a target variable\n"
   ]
  },
  {
   "cell_type": "code",
   "execution_count": 28,
   "id": "fc253341-eb62-41c8-a1d8-85055d4b2d33",
   "metadata": {},
   "outputs": [
    {
     "name": "stdout",
     "output_type": "stream",
     "text": [
      "drought_occurred\n",
      "0    15346\n",
      "1      694\n",
      "Name: count, dtype: int64\n"
     ]
    }
   ],
   "source": [
    "\n",
    "Core_weather.index = pd.to_datetime(Core_weather.index)\n",
    "\n",
    "# Compute the long-term average for each variable by day of the year\n",
    "Core_weather['day_of_year'] = Core_weather.index.dayofyear\n",
    "\n",
    "# Group by day of year to calculate long-term averages (e.g., average precipitation per day of year across all years)\n",
    "long_term_avg = Core_weather.groupby('day_of_year')[['s_wetness', 'w_speed', 'precip', 'Humidity', 'temp_max', 'temp_min']].mean()\n",
    "\n",
    "#Merge the long-term averages back to the original data\n",
    "Core_weather = pd.merge(Core_weather, long_term_avg, on='day_of_year', suffixes=('', '_long_term'))\n",
    "\n",
    "# Define thresholds for drought\n",
    "precipitation_threshold = 0.75  # 75% of the long-term average\n",
    "soil_moisture_threshold = 0.75  # 75% of the long-term average\n",
    "temp_max_threshold = 2  # 2°C above the long-term average\n",
    "def determine_drought(row):\n",
    "    # Check drought conditions element-wise\n",
    "    precip_drought = row['precip'] < (precipitation_threshold * row['precip_long_term'])\n",
    "    temp_max_drought = row['temp_max'] > (row['temp_max_long_term'] + temp_max_threshold)\n",
    "    soil_moisture_drought = row['s_wetness'] < (soil_moisture_threshold * row['s_wetness_long_term'])\n",
    "\n",
    "\n",
    "    # Use element-wise logical AND (&) and check if all conditions are True\n",
    "    if (precip_drought  &temp_max_drought & soil_moisture_drought).all():\n",
    "        return 1  # Drought occurred\n",
    "    else:\n",
    "        return 0  # No drought\n",
    "\n",
    "# Apply the function to each row\n",
    "Core_weather['drought_occurred'] = Core_weather.apply(determine_drought, axis=1)\n",
    "\n",
    "# Optional: Check the distribution of drought occurrences\n",
    "print(Core_weather['drought_occurred'].value_counts())\n"
   ]
  },
  {
   "cell_type": "code",
   "execution_count": 29,
   "id": "28a4d694-c266-4bf8-92eb-3f4b2b07bb40",
   "metadata": {},
   "outputs": [],
   "source": [
    "# Now you can separate features (X) and target (y)\n",
    "X = Core_weather[[\"temp_max\",\"temp_min\",\"precip\",\"Humidity\",\"w_speed\",\"s_wetness\"]]  # Features\n",
    "y = Core_weather['drought_occurred']  # Target: 0 = No Drought, 1 = Drought"
   ]
  },
  {
   "cell_type": "code",
   "execution_count": 30,
   "id": "3b7274fa-606e-4c33-b1af-7b07f1fced67",
   "metadata": {},
   "outputs": [],
   "source": [
    "#Standardize the data (important for machine learning models)\n",
    "from sklearn.preprocessing import StandardScaler\n",
    "scaler = StandardScaler()\n",
    "X_transformed = scaler.fit_transform(Core_weather[[\"temp_max\",\"temp_min\",\"precip\",\"Humidity\",\"w_speed\",\"s_wetness\"]])"
   ]
  },
  {
   "cell_type": "code",
   "execution_count": 31,
   "id": "a090d322-d8aa-42c1-b9c4-6fae6de9dc20",
   "metadata": {},
   "outputs": [
    {
     "name": "stdout",
     "output_type": "stream",
     "text": [
      "Training data size: (11228, 6)\n",
      "Test data size: (4812, 6)\n"
     ]
    }
   ],
   "source": [
    "#split the data into training and test sets, use the scaled feature data\n",
    "from sklearn.model_selection import train_test_split\n",
    "X_train, X_test, y_train, y_test = train_test_split(X_transformed, y, test_size=0.3, random_state=42)\n",
    "\n",
    "#To display the size of the training and testing sets\n",
    "print(f\"Training data size: {X_train.shape}\")\n",
    "print(f\"Test data size: {X_test.shape}\")"
   ]
  },
  {
   "cell_type": "code",
   "execution_count": 32,
   "id": "3b85a796-777d-499d-bf56-f805f7de74c2",
   "metadata": {},
   "outputs": [
    {
     "data": {
      "text/html": [
       "<div>\n",
       "<style scoped>\n",
       "    .dataframe tbody tr th:only-of-type {\n",
       "        vertical-align: middle;\n",
       "    }\n",
       "\n",
       "    .dataframe tbody tr th {\n",
       "        vertical-align: top;\n",
       "    }\n",
       "\n",
       "    .dataframe thead th {\n",
       "        text-align: right;\n",
       "    }\n",
       "</style>\n",
       "<table border=\"1\" class=\"dataframe\">\n",
       "  <thead>\n",
       "    <tr style=\"text-align: right;\">\n",
       "      <th></th>\n",
       "      <th>temp_max</th>\n",
       "      <th>temp_min</th>\n",
       "      <th>precip</th>\n",
       "      <th>Humidity</th>\n",
       "      <th>w_speed</th>\n",
       "      <th>s_wetness</th>\n",
       "    </tr>\n",
       "  </thead>\n",
       "  <tbody>\n",
       "    <tr>\n",
       "      <th>0</th>\n",
       "      <td>0.853293</td>\n",
       "      <td>-2.468649</td>\n",
       "      <td>-0.189972</td>\n",
       "      <td>-2.058832</td>\n",
       "      <td>0.234987</td>\n",
       "      <td>-1.321336</td>\n",
       "    </tr>\n",
       "    <tr>\n",
       "      <th>1</th>\n",
       "      <td>0.581811</td>\n",
       "      <td>-0.480886</td>\n",
       "      <td>-0.195542</td>\n",
       "      <td>-1.675981</td>\n",
       "      <td>0.431447</td>\n",
       "      <td>-1.236407</td>\n",
       "    </tr>\n",
       "    <tr>\n",
       "      <th>2</th>\n",
       "      <td>0.732096</td>\n",
       "      <td>-1.015569</td>\n",
       "      <td>-0.387718</td>\n",
       "      <td>-1.824433</td>\n",
       "      <td>0.185872</td>\n",
       "      <td>-1.151479</td>\n",
       "    </tr>\n",
       "    <tr>\n",
       "      <th>3</th>\n",
       "      <td>0.882381</td>\n",
       "      <td>-1.506220</td>\n",
       "      <td>-0.616102</td>\n",
       "      <td>-1.535342</td>\n",
       "      <td>0.546048</td>\n",
       "      <td>-1.406264</td>\n",
       "    </tr>\n",
       "    <tr>\n",
       "      <th>4</th>\n",
       "      <td>1.095688</td>\n",
       "      <td>-0.971537</td>\n",
       "      <td>-0.630028</td>\n",
       "      <td>-1.152491</td>\n",
       "      <td>0.677022</td>\n",
       "      <td>-1.491192</td>\n",
       "    </tr>\n",
       "  </tbody>\n",
       "</table>\n",
       "</div>"
      ],
      "text/plain": [
       "   temp_max  temp_min    precip  Humidity   w_speed  s_wetness\n",
       "0  0.853293 -2.468649 -0.189972 -2.058832  0.234987  -1.321336\n",
       "1  0.581811 -0.480886 -0.195542 -1.675981  0.431447  -1.236407\n",
       "2  0.732096 -1.015569 -0.387718 -1.824433  0.185872  -1.151479\n",
       "3  0.882381 -1.506220 -0.616102 -1.535342  0.546048  -1.406264\n",
       "4  1.095688 -0.971537 -0.630028 -1.152491  0.677022  -1.491192"
      ]
     },
     "execution_count": 32,
     "metadata": {},
     "output_type": "execute_result"
    }
   ],
   "source": [
    "#Add standardized features back to the dataframe\n",
    "Standardised_data = pd.DataFrame(X_transformed, columns =X.columns)\n",
    "Standardised_data.head()"
   ]
  },
  {
   "cell_type": "raw",
   "id": "6b05b22a-391f-4375-976c-f7ec5072b39b",
   "metadata": {},
   "source": [
    "#Machine Learning Model\n"
   ]
  },
  {
   "cell_type": "code",
   "execution_count": 33,
   "id": "0719918d-5e8a-4e60-ac16-81c903b95760",
   "metadata": {},
   "outputs": [
    {
     "name": "stdout",
     "output_type": "stream",
     "text": [
      "Random Forest Accuracy: 96.88%\n",
      "Random Forest Confusion Matrix:\n",
      "[[4561   46]\n",
      " [ 104  101]]\n",
      "Random Forest Classification Report:\n",
      "              precision    recall  f1-score   support\n",
      "\n",
      "           0       0.98      0.99      0.98      4607\n",
      "           1       0.69      0.49      0.57       205\n",
      "\n",
      "    accuracy                           0.97      4812\n",
      "   macro avg       0.83      0.74      0.78      4812\n",
      "weighted avg       0.97      0.97      0.97      4812\n",
      "\n"
     ]
    }
   ],
   "source": [
    "# Random Forest Model - Training and Evaluation\n",
    "from sklearn.ensemble import RandomForestClassifier\n",
    "from sklearn.metrics import classification_report\n",
    "from sklearn.metrics import accuracy_score, confusion_matrix\n",
    "\n",
    "## Initialize RandomForestClassifier with 100 estimators (trees)\n",
    "rf_model = RandomForestClassifier(n_estimators=100, random_state=42)\n",
    "\n",
    "# Train the Random Forest model\n",
    "rf_model.fit(X_train, y_train)\n",
    "\n",
    "# Make predictions on the test set\n",
    "rf_predictions = rf_model.predict(X_test)\n",
    "\n",
    "# Evaluate the Random Forest model\n",
    "rf_accuracy = accuracy_score(y_test, rf_predictions)\n",
    "print(f\"Random Forest Accuracy: {rf_accuracy * 100:.2f}%\")\n",
    "\n",
    "# Confusion Matrix for Random Forest\n",
    "print(\"Random Forest Confusion Matrix:\")\n",
    "print(confusion_matrix(y_test, rf_predictions))\n",
    "\n",
    "# Classification Report for Random Forest\n",
    "print(\"Random Forest Classification Report:\")\n",
    "print(classification_report(y_test, rf_predictions))\n",
    "\n"
   ]
  },
  {
   "cell_type": "code",
   "execution_count": 34,
   "id": "c69c7457-b09b-4e9f-b67f-b6a0a9ada518",
   "metadata": {},
   "outputs": [
    {
     "name": "stdout",
     "output_type": "stream",
     "text": [
      "Fitting 3 folds for each of 27 candidates, totalling 81 fits\n"
     ]
    },
    {
     "name": "stderr",
     "output_type": "stream",
     "text": [
      "C:\\Users\\ADMIN\\AppData\\Roaming\\Python\\Python312\\site-packages\\numpy\\ma\\core.py:2881: RuntimeWarning: invalid value encountered in cast\n",
      "  _data = np.array(data, dtype=dtype, copy=copy,\n"
     ]
    },
    {
     "name": "stdout",
     "output_type": "stream",
     "text": [
      "Optimized Random Forest Accuracy: 96.90%\n"
     ]
    }
   ],
   "source": [
    "# Hyperparameter tuning with GridSearchCV\n",
    "from sklearn.model_selection import GridSearchCV\n",
    "param_grid = {\n",
    "    'n_estimators': [50, 100, 150],\n",
    "    'max_depth': [5, 10, 15],\n",
    "    'min_samples_split': [2, 5, 10]\n",
    "}\n",
    "\n",
    "# Initialize the GridSearchCV\n",
    "grid_search_rf = GridSearchCV(estimator=rf_model, param_grid=param_grid, cv=3, verbose=2, n_jobs=-1)\n",
    "\n",
    "# Fit the grid search to the data\n",
    "grid_search_rf.fit(X_train, y_train)\n",
    "\n",
    "# Get the best parameters from the grid search\n",
    "best_rf_model = grid_search_rf.best_estimator_\n",
    "\n",
    "# Evaluate the best model from grid search\n",
    "best_rf_predictions = best_rf_model.predict(X_test)\n",
    "best_rf_accuracy = accuracy_score(y_test, best_rf_predictions)\n",
    "print(f\"Optimized Random Forest Accuracy: {best_rf_accuracy * 100:.2f}%\")\n"
   ]
  },
  {
   "cell_type": "code",
   "execution_count": 35,
   "id": "b522ea75-e950-4eab-87f6-fe5a8d90cbc6",
   "metadata": {},
   "outputs": [
    {
     "name": "stdout",
     "output_type": "stream",
     "text": [
      "SVM Accuracy: 96.43%\n",
      "SVM Confusion Matrix:\n",
      "[[4582   25]\n",
      " [ 147   58]]\n",
      "SVM Classification Report:\n",
      "              precision    recall  f1-score   support\n",
      "\n",
      "           0       0.97      0.99      0.98      4607\n",
      "           1       0.70      0.28      0.40       205\n",
      "\n",
      "    accuracy                           0.96      4812\n",
      "   macro avg       0.83      0.64      0.69      4812\n",
      "weighted avg       0.96      0.96      0.96      4812\n",
      "\n"
     ]
    }
   ],
   "source": [
    "#. Support Vector Machine (SVM) - Training and Evaluation\n",
    "from sklearn.svm import SVC\n",
    "# Initialize the SVM model with a linear kernel\n",
    "svm_model = SVC(kernel='linear', random_state=42)\n",
    "\n",
    "# Train the SVM model\n",
    "svm_model.fit(X_train, y_train)\n",
    "\n",
    "# Make predictions on the test set\n",
    "svm_predictions = svm_model.predict(X_test)\n",
    "\n",
    "# Evaluate the SVM model\n",
    "svm_accuracy = accuracy_score(y_test, svm_predictions)\n",
    "print(f\"SVM Accuracy: {svm_accuracy * 100:.2f}%\")\n",
    "\n",
    "# Confusion Matrix for SVM\n",
    "print(\"SVM Confusion Matrix:\")\n",
    "print(confusion_matrix(y_test, svm_predictions))\n",
    "\n",
    "# Classification Report for SVM\n",
    "print(\"SVM Classification Report:\")\n",
    "print(classification_report(y_test, svm_predictions))\n"
   ]
  },
  {
   "cell_type": "code",
   "execution_count": 36,
   "id": "c2061017-9e7f-4ac0-b895-6cfb61f7d213",
   "metadata": {},
   "outputs": [
    {
     "name": "stdout",
     "output_type": "stream",
     "text": [
      "Fitting 3 folds for each of 12 candidates, totalling 36 fits\n",
      "Optimized SVM Accuracy: 97.11%\n"
     ]
    }
   ],
   "source": [
    "# Hyperparameter tuning with GridSearchCV for SVM\n",
    "svm_param_grid = {\n",
    "    'C': [0.1, 1, 10],\n",
    "    'kernel': ['linear', 'rbf'],\n",
    "    'gamma': ['scale', 'auto']\n",
    "}\n",
    "\n",
    "# Initialize the GridSearchCV for SVM\n",
    "grid_search_svm = GridSearchCV(estimator=svm_model, param_grid=svm_param_grid, cv=3, verbose=2, n_jobs=-1)\n",
    "\n",
    "# Fit the grid search to the data\n",
    "grid_search_svm.fit(X_train, y_train)\n",
    "\n",
    "# Get the best parameters from the grid search\n",
    "best_svm_model = grid_search_svm.best_estimator_\n",
    "\n",
    "# Evaluate the best model from grid search\n",
    "best_svm_predictions = best_svm_model.predict(X_test)\n",
    "best_svm_accuracy = accuracy_score(y_test, best_svm_predictions)\n",
    "print(f\"Optimized SVM Accuracy: {best_svm_accuracy * 100:.2f}%\")\n"
   ]
  },
  {
   "cell_type": "raw",
   "id": "260a8ced-f33b-4138-9d61-f09e01942f9e",
   "metadata": {},
   "source": [
    "#Visualizing the Results"
   ]
  },
  {
   "cell_type": "code",
   "execution_count": 37,
   "id": "96b457e9-0e82-416f-be74-20b182980b39",
   "metadata": {},
   "outputs": [
    {
     "data": {
      "image/png": "[encoded data removed]",
      "text/plain": [
       "<Figure size 640x480 with 2 Axes>"
      ]
     },
     "metadata": {},
     "output_type": "display_data"
    },
    {
     "data": {
      "image/png": "[encoded data removed]",
      "text/plain": [
       "<Figure size 640x480 with 2 Axes>"
      ]
     },
     "metadata": {},
     "output_type": "display_data"
    }
   ],
   "source": [
    "# Random Forest Confusion Matrix Heatmap\n",
    "import seaborn as sns\n",
    "import matplotlib.pyplot as plt\n",
    "rf_cm = confusion_matrix(y_test, rf_predictions)\n",
    "sns.heatmap(rf_cm, annot=True, fmt='d', cmap='Blues', xticklabels=['No Drought', 'Drought'], yticklabels=['No Drought', 'Drought'])\n",
    "plt.title(\"Random Forest Confusion Matrix\")\n",
    "plt.xlabel('Predicted')\n",
    "plt.ylabel('Actual')\n",
    "plt.show()\n",
    "\n",
    "# SVM Confusion Matrix Heatmap\n",
    "svm_cm = confusion_matrix(y_test, svm_predictions)\n",
    "sns.heatmap(svm_cm, annot=True, fmt='d', cmap='Blues', xticklabels=['No Drought', 'Drought'], yticklabels=['No Drought', 'Drought'])\n",
    "plt.title(\"SVM Confusion Matrix\")\n",
    "plt.xlabel('Predicted')\n",
    "plt.ylabel('Actual')\n",
    "plt.show()\n"
   ]
  },
  {
   "cell_type": "raw",
   "id": "5a7f6ce2-0205-472c-afeb-75ad303e19d4",
   "metadata": {},
   "source": [
    "##GIS Visualization for Early Warning Dashboard"
   ]
  },
  {
   "cell_type": "code",
   "execution_count": 38,
   "id": "5c45d922-40a3-497d-a109-03e2afdb0b38",
   "metadata": {},
   "outputs": [],
   "source": [
    "import geopandas as gpd\n",
    "from shapely.geometry import Point\n",
    "\n",
    "# Load shapefile of Kenya \n",
    "kenya_shapefile = gpd.read_file('KEN_adm0.shp')  \n"
   ]
  },
  {
   "cell_type": "code",
   "execution_count": 39,
   "id": "546f67a1-11ce-404e-879c-6054ae7bfc45",
   "metadata": {},
   "outputs": [
    {
     "data": {
      "text/html": [
       "<div>\n",
       "<style scoped>\n",
       "    .dataframe tbody tr th:only-of-type {\n",
       "        vertical-align: middle;\n",
       "    }\n",
       "\n",
       "    .dataframe tbody tr th {\n",
       "        vertical-align: top;\n",
       "    }\n",
       "\n",
       "    .dataframe thead th {\n",
       "        text-align: right;\n",
       "    }\n",
       "</style>\n",
       "<table border=\"1\" class=\"dataframe\">\n",
       "  <thead>\n",
       "    <tr style=\"text-align: right;\">\n",
       "      <th></th>\n",
       "      <th>ID_0</th>\n",
       "      <th>ISO</th>\n",
       "      <th>NAME_0</th>\n",
       "      <th>OBJECTID_1</th>\n",
       "      <th>ISO3</th>\n",
       "      <th>NAME_ENGLI</th>\n",
       "      <th>NAME_ISO</th>\n",
       "      <th>NAME_FAO</th>\n",
       "      <th>NAME_LOCAL</th>\n",
       "      <th>NAME_OBSOL</th>\n",
       "      <th>...</th>\n",
       "      <th>CARICOM</th>\n",
       "      <th>EU</th>\n",
       "      <th>CAN</th>\n",
       "      <th>ACP</th>\n",
       "      <th>Landlocked</th>\n",
       "      <th>AOSIS</th>\n",
       "      <th>SIDS</th>\n",
       "      <th>Islands</th>\n",
       "      <th>LDC</th>\n",
       "      <th>geometry</th>\n",
       "    </tr>\n",
       "  </thead>\n",
       "  <tbody>\n",
       "    <tr>\n",
       "      <th>0</th>\n",
       "      <td>118</td>\n",
       "      <td>KEN</td>\n",
       "      <td>Kenya</td>\n",
       "      <td>120</td>\n",
       "      <td>KEN</td>\n",
       "      <td>Kenya</td>\n",
       "      <td>KENYA</td>\n",
       "      <td>Kenya</td>\n",
       "      <td>Kenya</td>\n",
       "      <td>None</td>\n",
       "      <td>...</td>\n",
       "      <td>0.0</td>\n",
       "      <td>0.0</td>\n",
       "      <td>0.0</td>\n",
       "      <td>1.0</td>\n",
       "      <td>0.0</td>\n",
       "      <td>0.0</td>\n",
       "      <td>0.0</td>\n",
       "      <td>0.0</td>\n",
       "      <td>0.0</td>\n",
       "      <td>MULTIPOLYGON (((39.37625 -4.71569, 39.37625 -4...</td>\n",
       "    </tr>\n",
       "  </tbody>\n",
       "</table>\n",
       "<p>1 rows × 71 columns</p>\n",
       "</div>"
      ],
      "text/plain": [
       "   ID_0  ISO NAME_0  OBJECTID_1 ISO3 NAME_ENGLI NAME_ISO NAME_FAO NAME_LOCAL  \\\n",
       "0   118  KEN  Kenya         120  KEN      Kenya    KENYA    Kenya      Kenya   \n",
       "\n",
       "  NAME_OBSOL  ... CARICOM   EU  CAN  ACP Landlocked AOSIS SIDS Islands  LDC  \\\n",
       "0       None  ...     0.0  0.0  0.0  1.0        0.0   0.0  0.0     0.0  0.0   \n",
       "\n",
       "                                            geometry  \n",
       "0  MULTIPOLYGON (((39.37625 -4.71569, 39.37625 -4...  \n",
       "\n",
       "[1 rows x 71 columns]"
      ]
     },
     "execution_count": 39,
     "metadata": {},
     "output_type": "execute_result"
    }
   ],
   "source": [
    "kenya_shapefile"
   ]
  },
  {
   "cell_type": "code",
   "execution_count": 40,
   "id": "46531e76-abfa-448f-a23d-22524ac4c4ea",
   "metadata": {},
   "outputs": [
    {
     "data": {
      "image/png": "[encoded data removed]",
      "text/plain": [
       "<Figure size 1000x1000 with 1 Axes>"
      ]
     },
     "metadata": {},
     "output_type": "display_data"
    }
   ],
   "source": [
    "import matplotlib.pyplot as plt\n",
    "# Eldama Ravine coordinates\n",
    "eldama_ravine_coords = [(35.7286 , 0.0483)]  # Longitude, Latitude\n",
    "predicted_drought = [rf_model.predict([[25, 10, 15,12,1.2,0.8]])[0]]  # Example input features for Eldama Ravine\n",
    "\n",
    "# Convert coordinates to GeoDataFrame\n",
    "geometry = [Point(xy) for xy in eldama_ravine_coords]\n",
    "geo_df = gpd.GeoDataFrame({'Latitude': [0.0483], 'Longitude': [35.7286], 'Predicted_Drought': predicted_drought}, geometry=geometry)\n",
    "\n",
    "# Plot the map\n",
    "fig, ax = plt.subplots(figsize=(10, 10))\n",
    "kenya_shapefile.plot(ax=ax, color='lightgray')  # Plot the Kenya boundary\n",
    "geo_df.plot(ax=ax, color=geo_df['Predicted_Drought'].map({1: 'red', 0: 'green'}), markersize=100)\n",
    "\n",
    "# Add label for Eldama Ravine\n",
    "for idx, row in geo_df.iterrows():\n",
    "    ax.text(row['Longitude'], row['Latitude'], 'Eldama Ravine', fontsize=12, ha='center', color='black')\n",
    "\n",
    "plt.title('Drought Prediction for Eldama Ravine')\n",
    "plt.xlabel('Longitude')\n",
    "plt.ylabel('Latitude')\n",
    "plt.show()\n"
   ]
  },
  {
   "cell_type": "code",
   "execution_count": 41,
   "id": "c084f770-d544-4bd5-8361-081fe9258f92",
   "metadata": {},
   "outputs": [],
   "source": [
    "#Evaluation and Accuracy of the prediction model"
   ]
  },
  {
   "cell_type": "code",
   "execution_count": 42,
   "id": "58098eb1-87f3-4f39-9ce5-812c3b5fec4d",
   "metadata": {},
   "outputs": [
    {
     "name": "stdout",
     "output_type": "stream",
     "text": [
      "Random Forest Model Accuracy for Eldama Ravine: 96.88%\n",
      "SVM Model Accuracy for Eldama Ravine: 96.43%\n"
     ]
    }
   ],
   "source": [
    "from sklearn.metrics import accuracy_score\n",
    "\n",
    "# Evaluate the Random Forest model for Eldama Ravine\n",
    "rf_accuracy = accuracy_score(y_test, rf_predictions)\n",
    "print(f\"Random Forest Model Accuracy for Eldama Ravine: {rf_accuracy * 100:.2f}%\")\n",
    "\n",
    "# Evaluate the SVM model for Eldama Ravine\n",
    "svm_accuracy = accuracy_score(y_test, svm_predictions)\n",
    "print(f\"SVM Model Accuracy for Eldama Ravine: {svm_accuracy * 100:.2f}%\")\n"
   ]
  },
  {
   "cell_type": "code",
   "execution_count": 43,
   "id": "ac670937-314b-4bd9-91b1-4762f7e8b902",
   "metadata": {},
   "outputs": [],
   "source": [
    "##We can see above that the random forest model is more accurate compared to the support vector Machine model(svm)\n",
    "##I therefor applied the random forest machine model in the Flask App."
   ]
  }
 ],
 "metadata": {
  "kernelspec": {
   "display_name": "Python 3 (ipykernel)",
   "language": "python",
   "name": "python3"
  },
  "language_info": {
   "codemirror_mode": {
    "name": "ipython",
    "version": 3
   },
   "file_extension": ".py",
   "mimetype": "text/x-python",
   "name": "python",
   "nbconvert_exporter": "python",
   "pygments_lexer": "ipython3",
   "version": "3.12.4"
  }
 },
 "nbformat": 4,
 "nbformat_minor": 5
}
